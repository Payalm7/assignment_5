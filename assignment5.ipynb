{
 "cells": [
  {
   "cell_type": "code",
   "execution_count": 1,
   "id": "6bb1af03-e3cb-461e-8b63-352b9fd6bf70",
   "metadata": {},
   "outputs": [
    {
     "data": {
      "text/plain": [
       "dict"
      ]
     },
     "execution_count": 1,
     "metadata": {},
     "output_type": "execute_result"
    }
   ],
   "source": [
    "#answer1.\n",
    "empty_dictonary={}\n",
    "type(empty_dictonary)"
   ]
  },
  {
   "cell_type": "code",
   "execution_count": 31,
   "id": "f1b0be64-1629-4292-aa4c-5d34c5641f3f",
   "metadata": {},
   "outputs": [
    {
     "name": "stdout",
     "output_type": "stream",
     "text": [
      "{'foo': '42'}\n"
     ]
    }
   ],
   "source": [
    "'''Q2.What is the value of a dictionary value with the key 'foo' and the value 42?'''\n",
    "#answer2.\n",
    "dict1={'foo':'42'}\n",
    "print(dict1)\n"
   ]
  },
  {
   "cell_type": "code",
   "execution_count": 3,
   "id": "def6c619-5357-4b84-9c44-b3c75bb052f8",
   "metadata": {},
   "outputs": [
    {
     "data": {
      "text/plain": [
       "' a list stores items in order ,accessed by index  while a dictionary stores items as key value pairs accessed by key'"
      ]
     },
     "execution_count": 3,
     "metadata": {},
     "output_type": "execute_result"
    }
   ],
   "source": [
    "'''Q3.What is the most significant distinction between a dictionary and a list?'''\n",
    "#answer3.\n",
    "''' a list stores items in order ,accessed by index  while a dictionary stores items as key value pairs accessed by key'''"
   ]
  },
  {
   "cell_type": "code",
   "execution_count": 15,
   "id": "849a93c9-a042-4722-96e9-93aaf81bc01d",
   "metadata": {},
   "outputs": [
    {
     "data": {
      "text/plain": [
       "\"key error because 'foo' is not a key in the dictionary\""
      ]
     },
     "execution_count": 15,
     "metadata": {},
     "output_type": "execute_result"
    }
   ],
   "source": [
    "'''Q4. What happens if u try to access spam['fool'] if spam is {'bar':100}?'''\n",
    "#answer4.\n",
    "'''key error because 'foo' is not a key in the dictionary'''\n",
    "#spam={'bar': 100}\n",
    "#print(spam['fool'])"
   ]
  },
  {
   "cell_type": "code",
   "execution_count": 17,
   "id": "5cad5d73-b546-4554-b17c-61112a2dd7f2",
   "metadata": {},
   "outputs": [
    {
     "data": {
      "text/plain": [
       "\" 'cat' in spam checks if cat is a key in the dictionary spam.\\n'cat' in spam.keys() does the same thing ,but it first creates a list of teh keys before checking.\""
      ]
     },
     "execution_count": 17,
     "metadata": {},
     "output_type": "execute_result"
    }
   ],
   "source": [
    "'''Q5. if a dictionary is stored in spam,what is the difference between the expressions 'cat' in spam and 'cat in spam.keys()?'''\n",
    "#answer5.\n",
    "''' 'cat' in spam checks if cat is a key in the dictionary spam.\n",
    "'cat' in spam.keys() does the same thing ,but it first creates a list of teh keys before checking.'''\n"
   ]
  },
  {
   "cell_type": "code",
   "execution_count": 19,
   "id": "2c300860-eb84-406c-92ea-1bd10fd77ef9",
   "metadata": {},
   "outputs": [
    {
     "data": {
      "text/plain": [
       "\" 'cat' in spam checks if 'cat' is a key in the dictiojary spam.\\n'cat' in spam.valus() checks if 'cat' is a value in the dictionary spam.\""
      ]
     },
     "execution_count": 19,
     "metadata": {},
     "output_type": "execute_result"
    }
   ],
   "source": [
    "'''Q6 if a dictionary is stored in spam,what is the difference between the expressions 'cat' in spam and 'cat in spam.values()?'''\n",
    "#answe6.\n",
    "''' 'cat' in spam checks if 'cat' is a key in the dictiojary spam.\n",
    "'cat' in spam.valus() checks if 'cat' is a value in the dictionary spam.''' "
   ]
  },
  {
   "cell_type": "code",
   "execution_count": 21,
   "id": "7d53c19a-deca-48c3-bbc1-1409a71732a2",
   "metadata": {},
   "outputs": [
    {
     "data": {
      "text/plain": [
       "'black'"
      ]
     },
     "execution_count": 21,
     "metadata": {},
     "output_type": "execute_result"
    }
   ],
   "source": [
    "'''Q7. what is a shortcut for the following code?\n",
    "if 'color' not in spam:\n",
    "spam['color']='black'\n",
    "'''\n",
    "#answer7.\n",
    "spam.setdefault('colour','black')\n"
   ]
  },
  {
   "cell_type": "code",
   "execution_count": 36,
   "id": "ab0d9602-2e4f-4611-98e5-310439a04c0b",
   "metadata": {},
   "outputs": [
    {
     "name": "stdout",
     "output_type": "stream",
     "text": [
      "{'age': 19, 'city': 'delhi', 'name': 'payal'}\n"
     ]
    }
   ],
   "source": [
    "'''Q8. How do u \"pretty print\" dictionary values using which module and function?'''\n",
    "#answer8\n",
    "import pprint\n",
    "spam={'name':'payal','age':19,'city':'delhi'}\n",
    "pprint.pprint(spam)"
   ]
  },
  {
   "cell_type": "code",
   "execution_count": null,
   "id": "0d841141-406b-4869-bb2e-16b1b92074a8",
   "metadata": {},
   "outputs": [],
   "source": []
  },
  {
   "cell_type": "code",
   "execution_count": null,
   "id": "2cd24473-3f49-462e-b64d-73bcc4e214e0",
   "metadata": {},
   "outputs": [],
   "source": []
  },
  {
   "cell_type": "code",
   "execution_count": null,
   "id": "f2da6c5c-20e4-4fb8-9ee5-19dffeae68ad",
   "metadata": {},
   "outputs": [],
   "source": []
  },
  {
   "cell_type": "code",
   "execution_count": null,
   "id": "948212ca-254c-4090-afc6-19cbadfd0736",
   "metadata": {},
   "outputs": [],
   "source": []
  },
  {
   "cell_type": "code",
   "execution_count": null,
   "id": "940682f5-64a0-42d2-806f-e0fd8c75a8b3",
   "metadata": {},
   "outputs": [],
   "source": []
  },
  {
   "cell_type": "code",
   "execution_count": null,
   "id": "0fea0a1c-dc71-435f-a414-ff4af417e9e8",
   "metadata": {},
   "outputs": [],
   "source": []
  },
  {
   "cell_type": "code",
   "execution_count": null,
   "id": "255f91dc-a8af-4af2-9b02-d50b20c52350",
   "metadata": {},
   "outputs": [],
   "source": []
  },
  {
   "cell_type": "code",
   "execution_count": null,
   "id": "277d0bd4-4e12-461d-90a7-c2e4e337bf17",
   "metadata": {},
   "outputs": [],
   "source": []
  }
 ],
 "metadata": {
  "kernelspec": {
   "display_name": "Python 3 (ipykernel)",
   "language": "python",
   "name": "python3"
  },
  "language_info": {
   "codemirror_mode": {
    "name": "ipython",
    "version": 3
   },
   "file_extension": ".py",
   "mimetype": "text/x-python",
   "name": "python",
   "nbconvert_exporter": "python",
   "pygments_lexer": "ipython3",
   "version": "3.12.4"
  }
 },
 "nbformat": 4,
 "nbformat_minor": 5
}
